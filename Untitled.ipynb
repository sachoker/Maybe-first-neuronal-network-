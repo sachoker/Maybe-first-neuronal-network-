{
 "cells": [
  {
   "cell_type": "code",
   "execution_count": null,
   "metadata": {},
   "outputs": [],
   "source": [
    "#!/usr/bin/env python\n",
    "# coding: utf-8\n",
    "\n",
    "# "
   ]
  },
  {
   "cell_type": "code",
   "execution_count": null,
   "metadata": {},
   "outputs": [],
   "source": []
  },
  {
   "cell_type": "code",
   "execution_count": null,
   "metadata": {},
   "outputs": [],
   "source": []
  },
  {
   "cell_type": "code",
   "execution_count": null,
   "metadata": {},
   "outputs": [],
   "source": []
  },
  {
   "cell_type": "code",
   "execution_count": null,
   "metadata": {},
   "outputs": [],
   "source": [
    "\n",
    "import pandas as pd\n",
    "import numpy as np\n",
    "\n",
    "from sklearn.cluster import KMeans, DBSCAN\n",
    "from sklearn.mixture import GaussianMixture\n",
    "from sklearn.feature_extraction.text import TfidfTransformer\n",
    "from sklearn.utils import shuffle\n",
    "from sklearn.metrics import silhouette_score\n",
    "\n",
    "import matplotlib.pyplot as plt\n",
    "\n",
    "plt.style.use('ggplot')\n",
    "plt.rcParams['figure.figsize'] = (12, 5)\n",
    "\n",
    "RAND_INIT = 123456"
   ]
  },
  {
   "cell_type": "code",
   "execution_count": null,
   "metadata": {},
   "outputs": [],
   "source": [
    "def get_alg(name, k, random_state, max_iter, extra_params={}):\n",
    "    if name == 'km':\n",
    "        return KMeans(n_clusters=k, random_state=random_state, max_iter=max_iter, **extra_params)\n",
    "    elif name == 'gm':\n",
    "        return GaussianMixture(n_components=k, random_state=random_state, max_iter=max_iter, **extra_params)\n",
    "    elif name == 'db':\n",
    "        return DBSCAN(eps=2.4, **extra_params)\n",
    "    else:\n",
    "        raise Exception('unknown alg')\n"
   ]
  },
  {
   "cell_type": "code",
   "execution_count": null,
   "metadata": {},
   "outputs": [],
   "source": [
    "def norm_X(df):\n",
    "    real_X = df.iloc[:, 4:].as_matrix().astype(float)\n",
    "\n",
    "    for i in range(real_X.shape[1]):\n",
    "        col = real_X[:, i]\n",
    "        col_std = np.std(col)\n",
    "        col_mean = np.mean(col)\n",
    "        real_X[:, i] = (col - col_mean) / col_std\n",
    "\n",
    "    return real_X\n",
    "\n",
    "\n",
    "def tfidf_X(df):\n",
    "    real_X = df.iloc[:, 4:].as_matrix()\n",
    "    trf = TfidfTransformer()\n",
    "    real_X = trf.fit_transform(real_X).toarray()\n",
    "\n",
    "    return real_X\n",
    "\n",
    "\n",
    "def norm_tfidf_X(df):\n",
    "    real_X = df.iloc[:, 4:].as_matrix()\n",
    "    trf = TfidfTransformer()\n",
    "    real_X = trf.fit_transform(real_X).toarray()\n",
    "\n",
    "    for i in range(real_X.shape[1]):\n",
    "        col = real_X[:, i]\n",
    "        col_std = np.std(col)\n",
    "        col_mean = np.mean(col)\n",
    "        real_X[:, i] = (col - col_mean) / col_std\n",
    "\n",
    "    return real_X\n",
    "\n"
   ]
  },
  {
   "cell_type": "code",
   "execution_count": null,
   "metadata": {},
   "outputs": [],
   "source": [
    "def cls_explore(df, y):\n",
    "    df_clusters = df.copy()\n",
    "    df_clusters['cluster'] = y\n",
    "    interests = df_clusters.columns[4:-1]\n",
    "    aggs = {key: np.sum for key in interests}\n",
    "    aggs['cluster'] = {'size': len}\n",
    "\n",
    "    res = df_clusters.groupby('cluster').agg(aggs)\n",
    "    res.columns = res.columns.get_level_values(0)\n",
    "\n",
    "    for interest in interests:\n",
    "        #     res[interest] = res[interest] / res['cluster'] * 100000\n",
    "        #     col_std = np.std(res[interest])\n",
    "        #     col_mean = np.mean(res[interest])\n",
    "        #     res[interest] = (res[interest] - col_mean) / col_std\n",
    "\n",
    "        res[interest] = res[interest] / np.sum(res[interest]) / res['cluster'] * 100000\n",
    "    #     res[interest] = res[interest] / np.sum(res[interest])\n",
    "\n",
    "    from IPython import display\n",
    "    with pd.option_context('display.max_rows', None, 'display.max_columns', None):\n",
    "        display.display(res)\n",
    "\n",
    "    for i, row in enumerate(res.as_matrix().argsort(axis=1)):\n",
    "        top_inds = row[::-1][1:6]\n",
    "        print('Кластер {} : {}'.format(i, ' '.join(res.columns[top_inds])))"
   ]
  },
  {
   "cell_type": "code",
   "execution_count": null,
   "metadata": {},
   "outputs": [],
   "source": [
    "def k_plot(X, alg_name, quality, k_start, k_end, random_state, max_iter):\n",
    "    ks = range(k_start, k_end + 1)\n",
    "    criteria = np.empty(len(ks))\n",
    "\n",
    "    for i, k in enumerate(ks):\n",
    "        x = X[:]\n",
    "        cls = get_alg(alg_name, k=k, random_state=random_state, max_iter=max_iter)\n",
    "        yl = cls.fit(x).predict(x)\n",
    "        x, yl = shuffle(x, yl, random_state=RAND_INIT)\n",
    "        criteria[i] = quality(x[:10000], yl[:10000])\n",
    "\n",
    "    plt.figure(figsize=(8, 6))\n",
    "    plt.plot(ks, criteria)\n",
    "    plt.title(\"$J(k)$\")\n",
    "    plt.ylabel(\"Criteria $J$\")\n",
    "    plt.xlabel(\"Number of clusters $k$\")\n",
    "    plt.grid()\n",
    "    plt.show()"
   ]
  },
  {
   "cell_type": "code",
   "execution_count": null,
   "metadata": {},
   "outputs": [],
   "source": [
    "\n",
    "def quality(x, y):\n",
    "    x, y = shuffle(x, y, random_state=RAND_INIT)\n",
    "    return silhouette_score(x[:10000], y[:10000])\n",
    "\n",
    "\n",
    "\n",
    "df_sns = pd.read_csv('snsdata.csv', sep=',')\n",
    "df_sns = df_sns.drop(df_sns.index[24337])\n",
    "df_sns = df_sns.drop(df_sns.index[14187])\n",
    "df_sns = df_sns.drop(df_sns.index[13224])\n",
    "df_sns = df_sns.drop(df_sns.index[11195])\n",
    "df_sns = df_sns.drop(df_sns.index[4950])\n",
    "df_sns = df_sns.drop(df_sns.index[4129])\n",
    "df_sns = df_sns.drop(df_sns.index[1777])\n",
    "df_sns = df_sns.drop(df_sns.index[1169])"
   ]
  },
  {
   "cell_type": "code",
   "execution_count": null,
   "metadata": {},
   "outputs": [],
   "source": [
    "\n",
    "X = norm_X(df_sns)\n",
    "\n",
    "from sklearn.model_selection import train_test_split"
   ]
  },
  {
   "cell_type": "code",
   "execution_count": null,
   "metadata": {},
   "outputs": [],
   "source": [
    "X, X_test = train_test_split(\n",
    "    X, test_size=0.25, random_state=RAND_INIT)\n"
   ]
  },
  {
   "cell_type": "code",
   "execution_count": null,
   "metadata": {},
   "outputs": [],
   "source": [
    "df_sns[:10].T[22:]\n",
    "df_sns.head().T[18:25]\n"
   ]
  },
  {
   "cell_type": "code",
   "execution_count": null,
   "metadata": {},
   "outputs": [],
   "source": [
    "kmeans = get_alg('km', k=8, random_state=RAND_INIT, max_iter=300)\n",
    "get_ipython().run_line_magic('time', 'kmeans.fit(X)')\n",
    "y = kmeans.predict(X_test)\n",
    "\n"
   ]
  },
  {
   "cell_type": "code",
   "execution_count": null,
   "metadata": {},
   "outputs": [],
   "source": [
    "get_ipython().run_line_magic('time', 'quality(X_test, y)')\n",
    "\n"
   ]
  },
  {
   "cell_type": "code",
   "execution_count": null,
   "metadata": {},
   "outputs": [],
   "source": [
    "gm = get_alg('gm', k=8, random_state=RAND_INIT, max_iter=300)\n",
    "get_ipython().run_line_magic('time', 'gm.fit(X)')\n",
    "y = gm.predict(X_test)\n"
   ]
  },
  {
   "cell_type": "code",
   "execution_count": null,
   "metadata": {},
   "outputs": [],
   "source": [
    "get_ipython().run_line_magic('time', 'quality(X_test, y)')\n"
   ]
  },
  {
   "cell_type": "code",
   "execution_count": null,
   "metadata": {},
   "outputs": [],
   "source": [
    "db = DBSCAN(eps=2.4)\n",
    "get_ipython().run_line_magic('time', 'db.fit(X[:30000])')\n",
    "y = db.labels_\n",
    "\n",
    "\n",
    "represent = df_sns.iloc[:, :4]\n",
    "represent['cluster'] = y\n",
    "\n",
    "rg = represent.groupby('cluster').agg({'cluster': {'size': len}})\n",
    "rg.columns = rg.columns.get_level_values(1)\n",
    "rg.sort_values(by=['size'], ascending=False).reset_index()\n",
    "# rg.sort_values(by=['size'], ascending=False).reset_index().drop(columns='cluster')\n",
    "\n",
    "print(represent)"
   ]
  },
  {
   "cell_type": "code",
   "execution_count": null,
   "metadata": {},
   "outputs": [],
   "source": [
    "# km\n",
    "cls_explore(df_sns, y)\n"
   ]
  },
  {
   "cell_type": "code",
   "execution_count": null,
   "metadata": {},
   "outputs": [],
   "source": [
    "get_ipython().run_line_magic('time', 'silhouette_score(X[:10000], y[:10000])')\n"
   ]
  },
  {
   "cell_type": "code",
   "execution_count": null,
   "metadata": {},
   "outputs": [],
   "source": [
    "get_ipython().run_line_magic('time',\n",
    "                             \"k_plot(X=X,     alg_name='km',     quality=silhouette_score,     k_start=2,     k_end=16,     random_state=RAND_INIT,     max_iter=300 )\")\n"
   ]
  },
  {
   "cell_type": "code",
   "execution_count": null,
   "metadata": {},
   "outputs": [],
   "source": [
    "get_ipython().run_line_magic('time',\n",
    "                             \"k_plot(X=X,     alg_name='gm',     quality=silhouette_score,     k_start=2,     k_end=16,     random_state=RAND_INIT,     max_iter=300 )\")\n"
   ]
  },
  {
   "cell_type": "code",
   "execution_count": null,
   "metadata": {},
   "outputs": [],
   "source": [
    "# db\n",
    "# 0.45324793458963125\n",
    "# 0.017228049478748612\n",
    "get_ipython().run_line_magic('time', 'quality(X[:10000], y[:10000])')"
   ]
  },
  {
   "cell_type": "code",
   "execution_count": null,
   "metadata": {},
   "outputs": [],
   "source": [
    "with open('idf.data', 'w') as f:\n",
    "    np.save(f, X)\n",
    "with open('idf.labels', 'w') as f:\n",
    "    np.save(f, kmeans.labels_)"
   ]
  },
  {
   "cell_type": "code",
   "execution_count": null,
   "metadata": {},
   "outputs": [],
   "source": []
  }
 ],
 "metadata": {
  "kernelspec": {
   "display_name": "Python 3",
   "language": "python",
   "name": "python3"
  },
  "language_info": {
   "codemirror_mode": {
    "name": "ipython",
    "version": 3
   },
   "file_extension": ".py",
   "mimetype": "text/x-python",
   "name": "python",
   "nbconvert_exporter": "python",
   "pygments_lexer": "ipython3",
   "version": "3.6.7"
  }
 },
 "nbformat": 4,
 "nbformat_minor": 2
}
